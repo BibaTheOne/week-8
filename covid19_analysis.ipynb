{
 "cells": [
  {
   "cell_type": "markdown",
   "id": "261b8de5",
   "metadata": {},
   "source": [
    "# COVID-19 Global Trends — Analysis Notebook\n",
    "\n",
    "This notebook analyzes COVID-19 global trends (cases, deaths, vaccinations) using a **Kaggle / Johns Hopkins (JHU CSSE)** dataset by default. If you don't have the Kaggle CSV locally, the notebook will gracefully fall back to downloading the **Our World in Data (OWID)** CSV online for convenience.\n",
    "\n",
    "**How to use**\n",
    "- Preferred: place the Kaggle CSV (e.g., `covid_19_data.csv` or the JHU CSV you downloaded from Kaggle) in the same folder as this notebook.\n",
    "- Alternative: the notebook will attempt to download OWID data automatically if the local file is missing.\n"
   ]
  },
  {
   "cell_type": "markdown",
   "id": "10eeb7be",
   "metadata": {},
   "source": [
    "## 1) Setup & Data Collection\n",
    "\n",
    "This section loads the dataset. The notebook looks for common Kaggle/JHU filenames (e.g., `covid_19_data.csv`, `time_series_covid19_confirmed_global.csv`); if not found, it downloads OWID data as a reliable fallback.\n"
   ]
  },
  {
   "cell_type": "code",
   "execution_count": null,
   "id": "668cc932",
   "metadata": {},
   "outputs": [],
   "source": [
    "# Imports and settings\n",
    "import pandas as pd\n",
    "import numpy as np\n",
    "import matplotlib.pyplot as plt\n",
    "import seaborn as sns\n",
    "from pathlib import Path\n",
    "\n",
    "plt.rcParams[\"figure.figsize\"] = (10,6)\n",
    "pd.set_option(\"display.max_columns\", 60)\n",
    "\n",
    "# File detection: common Kaggle/JHU filenames to check\n",
    "possible_files = [\n",
    "    \"covid_19_data.csv\",  # common Kaggle name\n",
    "    \"time_series_covid19_confirmed_global.csv\",\n",
    "    \"time_series_covid19_deaths_global.csv\",\n",
    "    \"time_series_covid19_recovered_global.csv\",\n",
    "    \"owid-covid-data.csv\"\n",
    "]\n",
    "\n",
    "local_file = None\n",
    "for fname in possible_files:\n",
    "    p = Path(fname)\n",
    "    if p.exists():\n",
    "        local_file = p\n",
    "        break\n",
    "\n",
    "OWID_URL = \"https://covid.ourworldindata.org/data/owid-covid-data.csv\"\n",
    "\n",
    "def load_data():\n",
    "    # Prefer a single combined CSV if available (common Kaggle export)\n",
    "    if local_file:\n",
    "        print(f\"Loading local file: {local_file}\")\n",
    "        try:\n",
    "            df = pd.read_csv(local_file)\n",
    "            return df\n",
    "        except Exception as e:\n",
    "            print(\"Error reading local file:\", e)\n",
    "    # Fallback to OWID\n",
    "    print(\"Local Kaggle file not found or unreadable — downloading OWID dataset...\")\n",
    "    try:\n",
    "        df = pd.read_csv(OWID_URL)\n",
    "        return df\n",
    "    except Exception as e:\n",
    "        raise RuntimeError(\"Failed to load any dataset. Please place a Kaggle CSV in the notebook folder or ensure internet access.\") from e\n",
    "\n",
    "df = load_data()\n",
    "print(\"Loaded dataset with shape:\", df.shape)\n",
    "df.head(3)"
   ]
  },
  {
   "cell_type": "markdown",
   "id": "a9fea72c",
   "metadata": {},
   "source": [
    "## 2) Data Exploration & Cleaning\n",
    "\n",
    "This section inspects columns, converts dates, and prepares a working subset of columns used for analysis.\n"
   ]
  },
  {
   "cell_type": "code",
   "execution_count": null,
   "id": "4f549d2a",
   "metadata": {},
   "outputs": [],
   "source": [
    "# Preview columns and types\n",
    "print(\"Columns (sample):\", list(df.columns)[:50])\n",
    "# Normalize column names (lowercase, replace spaces)\n",
    "df.columns = [c.strip() for c in df.columns]\n",
    "\n",
    "# Attempt to find a date column and convert to datetime\n",
    "date_col = None\n",
    "for candidate in [\"date\",\"Date\",\"observation_date\",\"Date_reported\"]:\n",
    "    if candidate in df.columns:\n",
    "        date_col = candidate\n",
    "        break\n",
    "\n",
    "if date_col is None:\n",
    "    # Try to guess by dtype or common patterns\n",
    "    for c in df.columns:\n",
    "        if \"date\" in c.lower():\n",
    "            date_col = c\n",
    "            break\n",
    "\n",
    "if date_col is None:\n",
    "    raise RuntimeError(\"No date column detected. Ensure your CSV has a date column named like 'date' or 'observation_date'.\")\n",
    "\n",
    "df[date_col] = pd.to_datetime(df[date_col], errors=\"coerce\")\n",
    "df = df.rename(columns={date_col: \"date\"})\n",
    "\n",
    "# Keep a practical subset (OWID-like)\n",
    "essential = [\"iso_code\",\"continent\",\"location\",\"date\",\n",
    "             \"total_cases\",\"new_cases\",\"total_deaths\",\"new_deaths\",\n",
    "             \"total_vaccinations\",\"people_vaccinated\",\"people_fully_vaccinated\",\n",
    "             \"population\",\"new_cases_smoothed\",\"new_deaths_smoothed\",\n",
    "             \"total_cases_per_million\",\"total_deaths_per_million\",\n",
    "             \"people_fully_vaccinated_per_hundred\",\"people_vaccinated_per_hundred\"]\n",
    "\n",
    "available = [c for c in essential if c in df.columns]\n",
    "print(\"Using columns:\", available)\n",
    "df = df[available].copy()\n",
    "\n",
    "print(\"Missing values (top 10):\")\n",
    "print(df.isnull().sum().sort_values(ascending=False).head(10))\n",
    "\n",
    "df.info()"
   ]
  },
  {
   "cell_type": "markdown",
   "id": "68f8d9ee",
   "metadata": {},
   "source": [
    "## 3) Cleaning & Preprocessing\n",
    "\n",
    "- Exclude aggregates (World or continents) where appropriate.\n",
    "- Forward-fill cumulative metrics by country.\n",
    "- Fill missing daily metrics with zeros where sensible.\n"
   ]
  },
  {
   "cell_type": "code",
   "execution_count": null,
   "id": "0603178d",
   "metadata": {},
   "outputs": [],
   "source": [
    "# Exclude non-country aggregates if iso_code exists\n",
    "if \"iso_code\" in df.columns:\n",
    "    df = df[df[\"iso_code\"].apply(lambda x: isinstance(x, str) and len(x)==3 if pd.notna(x) else False)]\n",
    "\n",
    "# Sort and forward-fill cumulative fields grouped by location\n",
    "df = df.sort_values([\"location\",\"date\"])\n",
    "cum_cols = [c for c in [\"total_cases\",\"total_deaths\",\"total_vaccinations\",\n",
    "                        \"people_vaccinated\",\"people_fully_vaccinated\"] if c in df.columns]\n",
    "df[cum_cols] = df.groupby(\"location\")[cum_cols].ffill()\n",
    "\n",
    "# Fill new_* with 0 if missing (daily counts)\n",
    "for col in [\"new_cases\",\"new_deaths\",\"new_cases_smoothed\",\"new_deaths_smoothed\"]:\n",
    "    if col in df.columns:\n",
    "        df[col] = df[col].fillna(0)\n",
    "\n",
    "print(\"After cleaning, sample:\")\n",
    "display(df.head(3))"
   ]
  },
  {
   "cell_type": "markdown",
   "id": "ad9fe536",
   "metadata": {},
   "source": [
    "## 4) Exploratory Data Analysis (EDA)\n",
    "\n",
    "We'll create:\n",
    "- Time series for total cases & deaths for selected countries\n",
    "- Comparison of daily new cases\n",
    "- Top countries by total cases (latest date)\n"
   ]
  },
  {
   "cell_type": "code",
   "execution_count": null,
   "id": "289cdafd",
   "metadata": {},
   "outputs": [],
   "source": [
    "# Select focus countries (customize as needed)\n",
    "focus = [\"Kenya\",\"United States\",\"India\",\"United Kingdom\",\"South Africa\"]\n",
    "focus = [c for c in focus if c in df[\"location\"].unique()]\n",
    "print(\"Focus countries:\", focus)\n",
    "\n",
    "# Latest snapshot per country\n",
    "latest = df.sort_values(\"date\").groupby(\"location\").tail(1)\n",
    "\n",
    "# Top countries by total cases (if column exists)\n",
    "if \"total_cases\" in latest.columns:\n",
    "    top = latest.nlargest(15, \"total_cases\")[[\"location\",\"total_cases\"]].set_index(\"location\")\n",
    "    top.plot(kind=\"bar\", ylabel=\"Total cases\", title=\"Top 15 countries by total cases (latest)\")\n",
    "    plt.tight_layout()\n",
    "    plt.show()\n",
    "\n",
    "# Time series function\n",
    "def plot_metric(metric, countries, title, ylabel):\n",
    "    if metric not in df.columns:\n",
    "        print(f\"Metric {metric} not found in data.\")\n",
    "        return\n",
    "    pivot = df[df[\"location\"].isin(countries)].pivot(index=\"date\", columns=\"location\", values=metric)\n",
    "    pivot.plot(title=title, ylabel=ylabel)\n",
    "    plt.show()\n",
    "\n",
    "plot_metric(\"total_cases\", focus, \"Total Cases Over Time\", \"Total cases\")\n",
    "plot_metric(\"total_deaths\", focus, \"Total Deaths Over Time\", \"Total deaths\")\n",
    "\n",
    "# Daily new cases (smoothed preferred)\n",
    "metric_new = \"new_cases_smoothed\" if \"new_cases_smoothed\" in df.columns else \"new_cases\"\n",
    "plot_metric(metric_new, focus, \"Daily New Cases (smoothed if available)\", \"New cases\")"
   ]
  },
  {
   "cell_type": "markdown",
   "id": "c1f4306c",
   "metadata": {},
   "source": [
    "## 5) Vaccination Analysis\n",
    "\n",
    "Compare cumulative vaccinations and percent vaccinated for latest date.\n"
   ]
  },
  {
   "cell_type": "code",
   "execution_count": null,
   "id": "dc781e13",
   "metadata": {},
   "outputs": [],
   "source": [
    "# Vaccination over time for focus countries\n",
    "if \"total_vaccinations\" in df.columns:\n",
    "    plot_metric(\"total_vaccinations\", focus, \"Cumulative Vaccinations Over Time\", \"Total vaccinations\")\n",
    "\n",
    "# Percent fully vaccinated (latest)\n",
    "if \"people_fully_vaccinated_per_hundred\" in latest.columns:\n",
    "    pct = latest.dropna(subset=[\"people_fully_vaccinated_per_hundred\"]).sort_values(\"people_fully_vaccinated_per_hundred\", ascending=False)\n",
    "    pct_top = pct.head(20).set_index(\"location\")[\"people_fully_vaccinated_per_hundred\"]\n",
    "    pct_top.plot(kind=\"bar\", title=\"% Fully Vaccinated (Top 20)\", ylabel=\"% of population (per hundred)\")\n",
    "    plt.tight_layout()\n",
    "    plt.show()"
   ]
  },
  {
   "cell_type": "markdown",
   "id": "fd834082",
   "metadata": {},
   "source": [
    "## 6) Optional Choropleth Map (Plotly)\n",
    "\n",
    "If Plotly is installed, a choropleth map can be rendered using `iso_code` and `total_cases_per_million`.\n"
   ]
  },
  {
   "cell_type": "code",
   "execution_count": null,
   "id": "5df8c04b",
   "metadata": {},
   "outputs": [],
   "source": [
    "try:\n",
    "    import plotly.express as px\n",
    "    PLOTLY = True\n",
    "except Exception:\n",
    "    PLOTLY = False\n",
    "\n",
    "if PLOTLY and \"iso_code\" in latest.columns and \"total_cases_per_million\" in latest.columns:\n",
    "    fig = px.choropleth(latest, locations=\"iso_code\", color=\"total_cases_per_million\",\n",
    "                        hover_name=\"location\", title=\"Total cases per million (latest)\")\n",
    "    fig.show()\n",
    "else:\n",
    "    print(\"Plotly not available or required columns missing. Install plotly with `pip install plotly` to enable map.\")"
   ]
  },
  {
   "cell_type": "markdown",
   "id": "4199f864",
   "metadata": {},
   "source": [
    "## 7) Insights & Next Steps\n",
    "\n",
    "- Write 3–5 key insights here after reviewing the charts (e.g., which countries had the fastest vaccine rollouts, where death rates were highest, etc.).\n",
    "- Optional next steps: deeper statistical modeling, dashboards with Streamlit, or including hospitalization data.\n"
   ]
  },
  {
   "cell_type": "markdown",
   "id": "2c1dfc62",
   "metadata": {},
   "source": [
    "## 8) Reproducibility & Submission\n",
    "\n",
    "- Ensure you have the Kaggle CSV in the notebook folder or internet access for the OWID fallback.\n",
    "- To share: upload both `covid19_analysis.ipynb` and `README.md` to your GitHub repository.\n"
   ]
  }
 ],
 "metadata": {},
 "nbformat": 4,
 "nbformat_minor": 5
}
